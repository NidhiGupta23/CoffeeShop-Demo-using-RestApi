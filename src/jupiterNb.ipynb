{
 "cells": [
  {
   "cell_type": "markdown",
   "metadata": {},
   "source": [
    "Coffee Shop Demo"
   ]
  },
  {
   "cell_type": "code",
   "execution_count": 2,
   "metadata": {},
   "outputs": [
    {
     "name": "stdout",
     "output_type": "stream",
     "text": [
      "########################################################################################################################\n",
      "########################################################################################################################\n",
      "                     ####  ####  #####  #####  #####  #####       ####  #  #  ####  ####  \n",
      "                     #     #  #  #      #      #      #           #     #  #  #  #  #  #  \n",
      "                     #     #  #  ###    ###    ###    ####        ####  ####  #  #  ####  \n",
      "                     #     #  #  #      #      #      #              #  #  #  #  #  #     \n",
      "                     ####  ####  #      #      #####  #####       ####  #  #  ####  #     \n",
      "########################################################################################################################\n",
      "########################################################################################################################\n",
      "\n",
      " \n",
      "\n",
      "                     Welcome to our Coffee shop where you’ll find every kind of coffee that you want!\n",
      "                                  Your presence is our motivation to do better!\n",
      "\n",
      "\n",
      "\n",
      "Following are the services that we provide:\n",
      "1. Create account\n",
      "2. Order a coffee\n",
      "3. Add money to wallet\n",
      "4. View account details\n",
      "5. Modify account details\n",
      "6. Delete account\n",
      "7. View Coffee of the month\n",
      "8. Give feedback and rating\n",
      "9. Admin\n",
      "10. Offers\n"
     ]
    }
   ],
   "source": [
    "import coffeeShopDemo as demo\n",
    "\n",
    "d = demo.coffeeShopDemo()\n",
    "d.displayService()"
   ]
  }
 ],
 "metadata": {
  "kernelspec": {
   "display_name": "Python 3.10.6 ('.venv': venv)",
   "language": "python",
   "name": "python3"
  },
  "language_info": {
   "codemirror_mode": {
    "name": "ipython",
    "version": 3
   },
   "file_extension": ".py",
   "mimetype": "text/x-python",
   "name": "python",
   "nbconvert_exporter": "python",
   "pygments_lexer": "ipython3",
   "version": "3.10.6"
  },
  "orig_nbformat": 4,
  "vscode": {
   "interpreter": {
    "hash": "eba220a72b9ab009a08473d0383e20629ea163b70a7a31d473ea9aaac9e8257e"
   }
  }
 },
 "nbformat": 4,
 "nbformat_minor": 2
}
