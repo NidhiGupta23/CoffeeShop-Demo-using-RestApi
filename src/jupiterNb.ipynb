{
 "cells": [
  {
   "cell_type": "code",
   "execution_count": 6,
   "metadata": {},
   "outputs": [],
   "source": [
    "import time\n",
    "import coffeeOrder as order"
   ]
  },
  {
   "cell_type": "code",
   "execution_count": 7,
   "metadata": {},
   "outputs": [],
   "source": [
    "def welcome_page():\n",
    "    print(\"########################################################################################################################\")\n",
    "    print(\"########################################################################################################################\")\n",
    "    print(\"                     ####  ####  #####  #####  #####  #####       ####  #  #  ####  ####  \")\n",
    "    print(\"                     #     #  #  #      #      #      #           #     #  #  #  #  #  #  \")\n",
    "    print(\"                     #     #  #  ###    ###    ###    ####        ####  ####  #  #  ####  \")\n",
    "    print(\"                     #     #  #  #      #      #      #              #  #  #  #  #  #     \")\n",
    "    print(\"                     ####  ####  #      #      #####  #####       ####  #  #  ####  #     \")\n",
    "    print(\"########################################################################################################################\")\n",
    "    print(\"########################################################################################################################\")\n",
    "\n",
    "\n",
    "def count_order():\n",
    "        count_order.counter += 1\n",
    "        return count_order.counter\n",
    "\n",
    "count_order.counter = 0\n",
    "\n",
    "def chooseOption():\n",
    "    useService = input('Press 1 to use our services or any other number to exit from our application  ')\n",
    "    if useService == '1':\n",
    "        option = True\n",
    "    else:\n",
    "        option = False\n",
    "    return option"
   ]
  },
  {
   "cell_type": "code",
   "execution_count": 8,
   "metadata": {},
   "outputs": [
    {
     "name": "stdout",
     "output_type": "stream",
     "text": [
      "########################################################################################################################\n",
      "########################################################################################################################\n",
      "                     ####  ####  #####  #####  #####  #####       ####  #  #  ####  ####  \n",
      "                     #     #  #  #      #      #      #           #     #  #  #  #  #  #  \n",
      "                     #     #  #  ###    ###    ###    ####        ####  ####  #  #  ####  \n",
      "                     #     #  #  #      #      #      #              #  #  #  #  #  #     \n",
      "                     ####  ####  #      #      #####  #####       ####  #  #  ####  #     \n",
      "########################################################################################################################\n",
      "########################################################################################################################\n",
      "\n",
      " \n",
      "\n",
      "                     Welcome to our Coffee shop where you’ll find every kind of coffee that you want!\n",
      "                                  Your presence is our motivation to do better!\n",
      "\n",
      "\n"
     ]
    }
   ],
   "source": [
    "welcome_page()\n",
    "time.sleep(2)\n",
    "print(\"\\n \\n\")\n",
    "print('                     Welcome to our Coffee shop where you’ll find every kind of coffee that you want!')\n",
    "print('                                  Your presence is our motivation to do better!\\n\\n') \n",
    "option=chooseOption()\n"
   ]
  },
  {
   "cell_type": "code",
   "execution_count": 9,
   "metadata": {},
   "outputs": [
    {
     "name": "stdout",
     "output_type": "stream",
     "text": [
      "\n",
      "Following are the services that we provide:\n",
      "1. Create account\n",
      "2. Order a coffee\n",
      "3. Add money to wallet\n",
      "4. View account details\n",
      "5. Modify account details\n",
      "6. Delete account\n",
      "7. View Coffee of the month\n",
      "8. Give feedback and rating\n",
      "9. Admin\n",
      "10. Offers\n",
      "\n",
      "It is wise to view coffee of the month \n"
     ]
    },
    {
     "data": {
      "image/png": "[encoded data removed]",
      "text/plain": [
       "<Figure size 640x480 with 1 Axes>"
      ]
     },
     "metadata": {},
     "output_type": "display_data"
    },
    {
     "name": "stdout",
     "output_type": "stream",
     "text": [
      "Have a good day :) \n"
     ]
    }
   ],
   "source": [
    "while(option == True):\n",
    "        c1 = order.coffeeOrder()\n",
    "        service = c1.viewMainMenu()\n",
    "        if int(service) >= 1  and int(service) <= 10:\n",
    "            completed = c1.actionToPerforme(service)\n",
    "            if int(service) == 2 and completed == True:\n",
    "                print(\"\\nOrder ID : \", count_order()) \n",
    "            elif completed == True:\n",
    "                print(\"Have a good day :) \")\n",
    "            else:\n",
    "                print(\"\\nSomething went wrong... TRY AGAIN...\")\n",
    "        else:\n",
    "            print(\"\\nLooks like you choosed wrong option!!!\\n\")\n",
    "        \n",
    "        option=chooseOption()\n",
    "        del c1\n",
    "\n",
    "        "
   ]
  }
 ],
 "metadata": {
  "kernelspec": {
   "display_name": "Python 3.10.6 ('.venv': venv)",
   "language": "python",
   "name": "python3"
  },
  "language_info": {
   "codemirror_mode": {
    "name": "ipython",
    "version": 3
   },
   "file_extension": ".py",
   "mimetype": "text/x-python",
   "name": "python",
   "nbconvert_exporter": "python",
   "pygments_lexer": "ipython3",
   "version": "3.10.6"
  },
  "orig_nbformat": 4,
  "vscode": {
   "interpreter": {
    "hash": "eba220a72b9ab009a08473d0383e20629ea163b70a7a31d473ea9aaac9e8257e"
   }
  }
 },
 "nbformat": 4,
 "nbformat_minor": 2
}
